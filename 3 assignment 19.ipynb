{
 "cells": [
  {
   "cell_type": "code",
   "execution_count": 5,
   "metadata": {},
   "outputs": [
    {
     "name": "stdout",
     "output_type": "stream",
     "text": [
      "11223344!!__\n"
     ]
    }
   ],
   "source": [
    "#1\n",
    "def double_array(p):\n",
    "        s=''\n",
    "        for i in p:\n",
    "            s+=(i*2)\n",
    "        return s\n",
    "    \n",
    "                                                      #'String'    ,     'Hello World'\n",
    "print(double_array('1234!_'))\n",
    "\n"
   ]
  },
  {
   "cell_type": "code",
   "execution_count": 35,
   "metadata": {},
   "outputs": [
    {
     "name": "stdout",
     "output_type": "stream",
     "text": [
      "boolean expected\n"
     ]
    }
   ],
   "source": [
    "#2\n",
    "def reverse(x):\n",
    "    if(type(x)==bool):\n",
    "        return not x\n",
    "    else:\n",
    "        return 'boolean expected'\n",
    "        \n",
    "\n",
    "\n",
    "print(reverse(True))                              #False,True,None,0\n",
    "\n",
    "\n",
    "        \n",
    "        \n",
    "        "
   ]
  },
  {
   "cell_type": "code",
   "execution_count": 50,
   "metadata": {},
   "outputs": [
    {
     "name": "stdout",
     "output_type": "stream",
     "text": [
      "Enter layer to find thickness0\n",
      "Paper folded 0 times is 0.5 mm(equal to 0.0005m)\n"
     ]
    }
   ],
   "source": [
    "#3\n",
    "\n",
    "def num_layers(layer): \n",
    "    thickness=2**(layer-1)\n",
    "    return thickness\n",
    "\n",
    "\n",
    "layer=int(input('Enter layer to find thickness   :'))\n",
    "res=num_layers(layer)\n",
    "print(f'Paper folded {layer} times is {round(res,2)} mm(equal to {round(res,2)/1000}m)')\n"
   ]
  },
  {
   "cell_type": "code",
   "execution_count": 36,
   "metadata": {},
   "outputs": [
    {
     "name": "stdout",
     "output_type": "stream",
     "text": [
      "[1, 3, 5]\n"
     ]
    }
   ],
   "source": [
    "#4\n",
    "def index_of_caps(l):\n",
    "    x=[]\n",
    "    for i in range(len(l)):\n",
    "        if(l[i].isupper()):\n",
    "            x.append(i)\n",
    "    return x\n",
    "            \n",
    "            \n",
    "print(index_of_caps('eDaBiT'))          #'eQuINoX',determine,STRIKE\n",
    "            \n",
    " "
   ]
  },
  {
   "cell_type": "code",
   "execution_count": 41,
   "metadata": {},
   "outputs": [
    {
     "name": "stdout",
     "output_type": "stream",
     "text": [
      "Range4\n",
      "[2, 4]\n"
     ]
    }
   ],
   "source": [
    "#5\n",
    "n=int(input('Range'))\n",
    "x=[i for i in range(1,n+1) if i%2==0]\n",
    "print(x)"
   ]
  },
  {
   "cell_type": "code",
   "execution_count": null,
   "metadata": {},
   "outputs": [],
   "source": []
  }
 ],
 "metadata": {
  "kernelspec": {
   "display_name": "Python 3",
   "language": "python",
   "name": "python3"
  },
  "language_info": {
   "codemirror_mode": {
    "name": "ipython",
    "version": 3
   },
   "file_extension": ".py",
   "mimetype": "text/x-python",
   "name": "python",
   "nbconvert_exporter": "python",
   "pygments_lexer": "ipython3",
   "version": "3.8.3"
  }
 },
 "nbformat": 4,
 "nbformat_minor": 4
}
